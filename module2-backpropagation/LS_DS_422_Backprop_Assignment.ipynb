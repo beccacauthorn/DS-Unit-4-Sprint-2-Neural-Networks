{
  "cells": [
    {
      "cell_type": "markdown",
      "source": [
        "<img align=\"left\" src=\"https://lever-client-logos.s3.amazonaws.com/864372b1-534c-480e-acd5-9711f850815c-1524247202159.png\" width=200>\n",
        "<br></br>\n",
        "\n",
        "# Backpropagation Practice\n",
        "\n",
        "## *Data Science Unit 4 Sprint 2 Assignment 2*\n",
        "\n",
        "Using TensorFlow Keras, Implement a 3 input, 4 node hidden-layer, 1 output node Multilayer Perceptron on the following dataset:\n",
        "\n",
        "| x1 | x2 | x3 | y |\n",
        "|----|----|----|---|\n",
        "| 0  | 0  | 1  | 0 |\n",
        "| 0  | 1  | 1  | 1 |\n",
        "| 1  | 0  | 1  | 1 |\n",
        "| 0  | 1  | 0  | 1 |\n",
        "| 1  | 0  | 0  | 1 |\n",
        "| 1  | 1  | 1  | 0 |\n",
        "| 0  | 0  | 0  | 0 |\n",
        "\n",
        "If you look at the data you'll notice that the first two columns behave like an XOR gate while the last column is mostly just noise. Remember that creating an XOR gate was what the perceptron was criticized for not being able to learn.\n",
        "\n",
        "This is your \"Hello World!\" of TensorFlow.\n",
        "\n",
        "### Example TensorFlow Starter Code\n",
        "\n",
        "```python \n",
        "from tensorflow.keras.models import Sequential\n",
        "from tensorflow.keras.layers import Dense\n",
        "\n",
        "model = Sequential([\n",
        "    Dense(3, activation='sigmoid', input_dim=2),\n",
        "    Dense(1, activation='sigmoid')\n",
        "])\n",
        "\n",
        "model.compile(optimizer='sgd', loss='binary_crossentropy', metrics=['acc'])\n",
        "\n",
        "results = model.fit(X,y, epochs=100)\n",
        "\n",
        "```\n",
        "\n",
        "### Additional Written Tasks:\n",
        "1. Investigate the various [loss functions](https://www.tensorflow.org/api_docs/python/tf/keras/losses). Which is best suited for the task at hand (predicting 1 / 0) and why? binary_crossentropy is being used as a loss function in this case because it is telling keras that we are doing binary classification. If we are trying to predict non-binary categories we might use categorical_crossentropy \n",
        "2. What is the difference between a loss function and a metric? Why might we need both in Keras? Loss function tells our model about the type of problem (binary vs. non-binary) and the metric tells us our error for each epoch. \n",
        "3. Investigate the various [optimizers](https://www.tensorflow.org/api_docs/python/tf/keras/optimizers). Stochastic Gradient Descent (`sgd`) is not the learning algorithm dejour anyone. Why is that? What do newer optimizers such as `adam` have to offer? Adam is an adaptive learning rate optimization algorithm that's been designed specifically for training deep neural networks. It computes adaptive learning rates for each parameter. Adam also keeps an exponentially decaying average of past gradients \n"
      ],
      "metadata": {
        "colab_type": "text",
        "id": "NGGrt9EYlCqY"
      }
    },
    {
      "cell_type": "code",
      "source": [
        "import numpy as np \n",
        "X=np.array([[0, 0, 1],\n",
        "            [0, 1, 1],\n",
        "            [1, 0, 1],\n",
        "            [0, 1, 0],\n",
        "            [1, 0, 0],\n",
        "            [1, 1, 1],\n",
        "            [0, 0, 0]\n",
        "])\n",
        "y=np.array([[0], [1], [1], [1], [1], [0], [0]])"
      ],
      "outputs": [],
      "execution_count": 5,
      "metadata": {
        "colab": {},
        "colab_type": "code",
        "id": "nEREYT-3wI1f"
      }
    },
    {
      "cell_type": "code",
      "execution_count": 7,
      "metadata": {},
      "outputs": [
        {
          "output_type": "stream",
          "name": "stdout",
          "text": "Epoch 1/100\n1/1 [==============================] - 0s 3ms/step - loss: 0.7651 - acc: 0.4286\nEpoch 2/100\n1/1 [==============================] - 0s 2ms/step - loss: 0.7641 - acc: 0.4286\nEpoch 3/100\n1/1 [==============================] - 0s 3ms/step - loss: 0.7631 - acc: 0.4286\nEpoch 4/100\n1/1 [==============================] - 0s 4ms/step - loss: 0.7621 - acc: 0.4286\nEpoch 5/100\n1/1 [==============================] - 0s 3ms/step - loss: 0.7611 - acc: 0.4286\nEpoch 6/100\n1/1 [==============================] - 0s 4ms/step - loss: 0.7601 - acc: 0.4286\nEpoch 7/100\n1/1 [==============================] - 0s 3ms/step - loss: 0.7592 - acc: 0.4286\nEpoch 8/100\n1/1 [==============================] - 0s 3ms/step - loss: 0.7582 - acc: 0.4286\nEpoch 9/100\n1/1 [==============================] - 0s 2ms/step - loss: 0.7573 - acc: 0.4286\nEpoch 10/100\n1/1 [==============================] - 0s 4ms/step - loss: 0.7564 - acc: 0.4286\nEpoch 11/100\n1/1 [==============================] - 0s 3ms/step - loss: 0.7555 - acc: 0.4286\nEpoch 12/100\n1/1 [==============================] - 0s 2ms/step - loss: 0.7546 - acc: 0.4286\nEpoch 13/100\n1/1 [==============================] - 0s 5ms/step - loss: 0.7537 - acc: 0.4286\nEpoch 14/100\n1/1 [==============================] - 0s 2ms/step - loss: 0.7528 - acc: 0.4286\nEpoch 15/100\n1/1 [==============================] - 0s 1ms/step - loss: 0.7520 - acc: 0.4286\nEpoch 16/100\n1/1 [==============================] - 0s 2ms/step - loss: 0.7511 - acc: 0.4286\nEpoch 17/100\n1/1 [==============================] - 0s 5ms/step - loss: 0.7503 - acc: 0.4286\nEpoch 18/100\n1/1 [==============================] - 0s 1ms/step - loss: 0.7494 - acc: 0.4286\nEpoch 19/100\n1/1 [==============================] - 0s 998us/step - loss: 0.7486 - acc: 0.4286\nEpoch 20/100\n1/1 [==============================] - 0s 2ms/step - loss: 0.7478 - acc: 0.4286\nEpoch 21/100\n1/1 [==============================] - 0s 1ms/step - loss: 0.7470 - acc: 0.4286\nEpoch 22/100\n1/1 [==============================] - 0s 3ms/step - loss: 0.7462 - acc: 0.4286\nEpoch 23/100\n1/1 [==============================] - 0s 2ms/step - loss: 0.7454 - acc: 0.4286\nEpoch 24/100\n1/1 [==============================] - 0s 3ms/step - loss: 0.7447 - acc: 0.4286\nEpoch 25/100\n1/1 [==============================] - 0s 4ms/step - loss: 0.7439 - acc: 0.4286\nEpoch 26/100\n1/1 [==============================] - 0s 3ms/step - loss: 0.7432 - acc: 0.4286\nEpoch 27/100\n1/1 [==============================] - 0s 2ms/step - loss: 0.7424 - acc: 0.4286\nEpoch 28/100\n1/1 [==============================] - 0s 8ms/step - loss: 0.7417 - acc: 0.4286\nEpoch 29/100\n1/1 [==============================] - ETA: 0s - loss: 0.7410 - acc: 0.4281/1 [==============================] - 0s 3ms/step - loss: 0.7410 - acc: 0.4286\nEpoch 30/100\n1/1 [==============================] - 0s 2ms/step - loss: 0.7402 - acc: 0.4286\nEpoch 31/100\n1/1 [==============================] - 0s 2ms/step - loss: 0.7395 - acc: 0.4286\nEpoch 32/100\n1/1 [==============================] - 0s 1ms/step - loss: 0.7388 - acc: 0.4286\nEpoch 33/100\n1/1 [==============================] - 0s 3ms/step - loss: 0.7382 - acc: 0.4286\nEpoch 34/100\n1/1 [==============================] - 0s 2ms/step - loss: 0.7375 - acc: 0.4286\nEpoch 35/100\n1/1 [==============================] - 0s 2ms/step - loss: 0.7368 - acc: 0.4286\nEpoch 36/100\n1/1 [==============================] - 0s 2ms/step - loss: 0.7361 - acc: 0.4286\nEpoch 37/100\n1/1 [==============================] - 0s 2ms/step - loss: 0.7355 - acc: 0.4286\nEpoch 38/100\n1/1 [==============================] - 0s 3ms/step - loss: 0.7348 - acc: 0.4286\nEpoch 39/100\n1/1 [==============================] - 0s 3ms/step - loss: 0.7342 - acc: 0.4286\nEpoch 40/100\n1/1 [==============================] - 0s 2ms/step - loss: 0.7336 - acc: 0.4286\nEpoch 41/100\n1/1 [==============================] - 0s 2ms/step - loss: 0.7330 - acc: 0.4286\nEpoch 42/100\n1/1 [==============================] - 0s 996us/step - loss: 0.7323 - acc: 0.4286\nEpoch 43/100\n1/1 [==============================] - 0s 2ms/step - loss: 0.7317 - acc: 0.4286\nEpoch 44/100\n1/1 [==============================] - 0s 2ms/step - loss: 0.7311 - acc: 0.4286\nEpoch 45/100\n1/1 [==============================] - 0s 2ms/step - loss: 0.7305 - acc: 0.4286\nEpoch 46/100\n1/1 [==============================] - 0s 3ms/step - loss: 0.7300 - acc: 0.4286\nEpoch 47/100\n1/1 [==============================] - 0s 2ms/step - loss: 0.7294 - acc: 0.4286\nEpoch 48/100\n1/1 [==============================] - 0s 3ms/step - loss: 0.7288 - acc: 0.4286\nEpoch 49/100\n1/1 [==============================] - 0s 2ms/step - loss: 0.7283 - acc: 0.4286\nEpoch 50/100\n1/1 [==============================] - 0s 3ms/step - loss: 0.7277 - acc: 0.4286\nEpoch 51/100\n1/1 [==============================] - 0s 2ms/step - loss: 0.7272 - acc: 0.4286\nEpoch 52/100\n1/1 [==============================] - 0s 2ms/step - loss: 0.7266 - acc: 0.4286\nEpoch 53/100\n1/1 [==============================] - 0s 2ms/step - loss: 0.7261 - acc: 0.4286\nEpoch 54/100\n1/1 [==============================] - 0s 2ms/step - loss: 0.7256 - acc: 0.4286\nEpoch 55/100\n1/1 [==============================] - 0s 2ms/step - loss: 0.7250 - acc: 0.4286\nEpoch 56/100\n1/1 [==============================] - 0s 2ms/step - loss: 0.7245 - acc: 0.4286\nEpoch 57/100\n1/1 [==============================] - 0s 3ms/step - loss: 0.7240 - acc: 0.4286\nEpoch 58/100\n1/1 [==============================] - 0s 996us/step - loss: 0.7235 - acc: 0.4286\nEpoch 59/100\n1/1 [==============================] - 0s 3ms/step - loss: 0.7230 - acc: 0.4286\nEpoch 60/100\n1/1 [==============================] - 0s 3ms/step - loss: 0.7225 - acc: 0.4286\nEpoch 61/100\n1/1 [==============================] - 0s 4ms/step - loss: 0.7221 - acc: 0.4286\nEpoch 62/100\n1/1 [==============================] - 0s 2ms/step - loss: 0.7216 - acc: 0.4286\nEpoch 63/100\n1/1 [==============================] - 0s 996us/step - loss: 0.7211 - acc: 0.4286\nEpoch 64/100\n1/1 [==============================] - 0s 3ms/step - loss: 0.7206 - acc: 0.4286\nEpoch 65/100\n1/1 [==============================] - 0s 2ms/step - loss: 0.7202 - acc: 0.4286\nEpoch 66/100\n1/1 [==============================] - 0s 2ms/step - loss: 0.7197 - acc: 0.4286\nEpoch 67/100\n1/1 [==============================] - 0s 1ms/step - loss: 0.7193 - acc: 0.4286\nEpoch 68/100\n1/1 [==============================] - 0s 997us/step - loss: 0.7189 - acc: 0.4286\nEpoch 69/100\n1/1 [==============================] - 0s 2ms/step - loss: 0.7184 - acc: 0.4286\nEpoch 70/100\n1/1 [==============================] - 0s 2ms/step - loss: 0.7180 - acc: 0.4286\nEpoch 71/100\n1/1 [==============================] - 0s 2ms/step - loss: 0.7176 - acc: 0.4286\nEpoch 72/100\n1/1 [==============================] - 0s 2ms/step - loss: 0.7171 - acc: 0.4286\nEpoch 73/100\n1/1 [==============================] - 0s 2ms/step - loss: 0.7167 - acc: 0.4286\nEpoch 74/100\n1/1 [==============================] - 0s 2ms/step - loss: 0.7163 - acc: 0.4286\nEpoch 75/100\n1/1 [==============================] - 0s 2ms/step - loss: 0.7159 - acc: 0.4286\nEpoch 76/100\n1/1 [==============================] - 0s 2ms/step - loss: 0.7155 - acc: 0.4286\nEpoch 77/100\n1/1 [==============================] - 0s 1ms/step - loss: 0.7151 - acc: 0.4286\nEpoch 78/100\n1/1 [==============================] - 0s 2ms/step - loss: 0.7148 - acc: 0.4286\nEpoch 79/100\n1/1 [==============================] - 0s 4ms/step - loss: 0.7144 - acc: 0.4286\nEpoch 80/100\n1/1 [==============================] - 0s 999us/step - loss: 0.7140 - acc: 0.4286\nEpoch 81/100\n1/1 [==============================] - 0s 2ms/step - loss: 0.7136 - acc: 0.4286\nEpoch 82/100\n1/1 [==============================] - 0s 2ms/step - loss: 0.7133 - acc: 0.4286\nEpoch 83/100\n1/1 [==============================] - 0s 3ms/step - loss: 0.7129 - acc: 0.4286\nEpoch 84/100\n1/1 [==============================] - 0s 2ms/step - loss: 0.7125 - acc: 0.4286\nEpoch 85/100\n1/1 [==============================] - 0s 4ms/step - loss: 0.7122 - acc: 0.4286\nEpoch 86/100\n1/1 [==============================] - 0s 2ms/step - loss: 0.7118 - acc: 0.4286\nEpoch 87/100\n1/1 [==============================] - 0s 2ms/step - loss: 0.7115 - acc: 0.4286\nEpoch 88/100\n1/1 [==============================] - 0s 2ms/step - loss: 0.7111 - acc: 0.4286\nEpoch 89/100\n1/1 [==============================] - 0s 998us/step - loss: 0.7108 - acc: 0.4286\nEpoch 90/100\n1/1 [==============================] - 0s 998us/step - loss: 0.7105 - acc: 0.4286\nEpoch 91/100\n1/1 [==============================] - 0s 998us/step - loss: 0.7101 - acc: 0.4286\nEpoch 92/100\n1/1 [==============================] - 0s 3ms/step - loss: 0.7098 - acc: 0.4286\nEpoch 93/100\n1/1 [==============================] - 0s 999us/step - loss: 0.7095 - acc: 0.4286\nEpoch 94/100\n1/1 [==============================] - 0s 2ms/step - loss: 0.7092 - acc: 0.4286\nEpoch 95/100\n1/1 [==============================] - 0s 2ms/step - loss: 0.7089 - acc: 0.4286\nEpoch 96/100\n1/1 [==============================] - 0s 2ms/step - loss: 0.7086 - acc: 0.4286\nEpoch 97/100\n1/1 [==============================] - 0s 2ms/step - loss: 0.7083 - acc: 0.4286\nEpoch 98/100\n1/1 [==============================] - 0s 2ms/step - loss: 0.7080 - acc: 0.4286\nEpoch 99/100\n1/1 [==============================] - 0s 2ms/step - loss: 0.7077 - acc: 0.4286\nEpoch 100/100\n1/1 [==============================] - 0s 3ms/step - loss: 0.7074 - acc: 0.4286\n"
        }
      ],
      "source": [
        "from tensorflow.keras.models import Sequential\n",
        "from tensorflow.keras.layers import Dense\n",
        "\n",
        "model = Sequential()\n",
        "\n",
        "model.add(Dense(3, activation='sigmoid'))\n",
        "model.add(Dense(4, activation='sigmoid'))\n",
        "model.add(Dense(1, activation='sigmoid'))\n",
        "\n",
        "model.compile(optimizer='sgd', loss='binary_crossentropy', metrics=['acc'])\n",
        "\n",
        "results = model.fit(X, y, epochs=100)"
      ]
    },
    {
      "cell_type": "markdown",
      "source": [
        "### Build a Tensor Keras Perceptron\n",
        "\n",
        "Try to match the architecture we used on Monday - inputs nodes and one output node. Apply this architecture to the XOR-ish dataset above. \n",
        "\n",
        "After fitting your model answer these questions: \n",
        "\n",
        "Are you able to achieve the same results as a bigger architecture from the first part of the assignment? Why is this disparity the case? What properties of the XOR dataset would cause this disparity? \n",
        "\n",
        "Now extrapolate this behavior on a much larger dataset in terms of features. What kind of architecture decisions could we make to avoid the problems the XOR dataset presents at scale? \n",
        "\n",
        "*Note:* The bias term is baked in by default in the Dense layer."
      ],
      "metadata": {}
    },
    {
      "cell_type": "code",
      "source": [
        "from tensorflow.keras.models import Sequential\n",
        "from tensorflow.keras.layers import Dense\n",
        "\n",
        "model = Sequential()\n",
        "\n",
        "model.add(Dense(3, activation='sigmoid'))\n",
        "model.add(Dense(1, activation='sigmoid'))\n",
        "\n",
        "model.compile(optimizer='sgd', loss='binary_crossentropy', metrics=['acc'])\n",
        "\n",
        "results = model.fit(X, y, epochs=100)"
      ],
      "outputs": [
        {
          "output_type": "stream",
          "name": "stdout",
          "text": "Epoch 1/100\n1/1 [==============================] - 0s 1ms/step - loss: 0.9522 - acc: 0.4286\nEpoch 2/100\n1/1 [==============================] - 0s 9ms/step - loss: 0.9498 - acc: 0.4286\nEpoch 3/100\n1/1 [==============================] - 0s 5ms/step - loss: 0.9475 - acc: 0.4286\nEpoch 4/100\n1/1 [==============================] - 0s 6ms/step - loss: 0.9452 - acc: 0.4286\nEpoch 5/100\n1/1 [==============================] - 0s 2ms/step - loss: 0.9429 - acc: 0.4286\nEpoch 6/100\n1/1 [==============================] - 0s 2ms/step - loss: 0.9407 - acc: 0.4286\nEpoch 7/100\n1/1 [==============================] - 0s 3ms/step - loss: 0.9385 - acc: 0.4286\nEpoch 8/100\n1/1 [==============================] - 0s 4ms/step - loss: 0.9362 - acc: 0.4286\nEpoch 9/100\n1/1 [==============================] - 0s 4ms/step - loss: 0.9340 - acc: 0.4286\nEpoch 10/100\n1/1 [==============================] - 0s 2ms/step - loss: 0.9319 - acc: 0.4286\nEpoch 11/100\n1/1 [==============================] - 0s 2ms/step - loss: 0.9297 - acc: 0.4286\nEpoch 12/100\n1/1 [==============================] - 0s 4ms/step - loss: 0.9276 - acc: 0.4286\nEpoch 13/100\n1/1 [==============================] - 0s 997us/step - loss: 0.9255 - acc: 0.4286\nEpoch 14/100\n1/1 [==============================] - 0s 2ms/step - loss: 0.9234 - acc: 0.4286\nEpoch 15/100\n1/1 [==============================] - 0s 2ms/step - loss: 0.9213 - acc: 0.4286\nEpoch 16/100\n1/1 [==============================] - 0s 2ms/step - loss: 0.9192 - acc: 0.4286\nEpoch 17/100\n1/1 [==============================] - 0s 997us/step - loss: 0.9172 - acc: 0.4286\nEpoch 18/100\n1/1 [==============================] - 0s 2ms/step - loss: 0.9151 - acc: 0.4286\nEpoch 19/100\n1/1 [==============================] - 0s 2ms/step - loss: 0.9131 - acc: 0.4286\nEpoch 20/100\n1/1 [==============================] - 0s 3ms/step - loss: 0.9111 - acc: 0.4286\nEpoch 21/100\n1/1 [==============================] - 0s 2ms/step - loss: 0.9092 - acc: 0.4286\nEpoch 22/100\n1/1 [==============================] - 0s 2ms/step - loss: 0.9072 - acc: 0.4286\nEpoch 23/100\n1/1 [==============================] - 0s 2ms/step - loss: 0.9053 - acc: 0.4286\nEpoch 24/100\n1/1 [==============================] - 0s 1ms/step - loss: 0.9034 - acc: 0.4286\nEpoch 25/100\n1/1 [==============================] - 0s 2ms/step - loss: 0.9015 - acc: 0.4286\nEpoch 26/100\n1/1 [==============================] - 0s 2ms/step - loss: 0.8996 - acc: 0.4286\nEpoch 27/100\n1/1 [==============================] - 0s 3ms/step - loss: 0.8977 - acc: 0.4286\nEpoch 28/100\n1/1 [==============================] - 0s 996us/step - loss: 0.8959 - acc: 0.4286\nEpoch 29/100\n1/1 [==============================] - 0s 2ms/step - loss: 0.8940 - acc: 0.4286\nEpoch 30/100\n1/1 [==============================] - 0s 2ms/step - loss: 0.8922 - acc: 0.4286\nEpoch 31/100\n1/1 [==============================] - 0s 997us/step - loss: 0.8904 - acc: 0.4286\nEpoch 32/100\n1/1 [==============================] - 0s 2ms/step - loss: 0.8886 - acc: 0.4286\nEpoch 33/100\n1/1 [==============================] - 0s 2ms/step - loss: 0.8869 - acc: 0.4286\nEpoch 34/100\n1/1 [==============================] - 0s 998us/step - loss: 0.8851 - acc: 0.4286\nEpoch 35/100\n1/1 [==============================] - 0s 2ms/step - loss: 0.8834 - acc: 0.4286\nEpoch 36/100\n1/1 [==============================] - 0s 997us/step - loss: 0.8817 - acc: 0.4286\nEpoch 37/100\n1/1 [==============================] - 0s 4ms/step - loss: 0.8800 - acc: 0.4286\nEpoch 38/100\n1/1 [==============================] - 0s 2ms/step - loss: 0.8783 - acc: 0.4286\nEpoch 39/100\n1/1 [==============================] - 0s 4ms/step - loss: 0.8766 - acc: 0.4286\nEpoch 40/100\n1/1 [==============================] - 0s 2ms/step - loss: 0.8750 - acc: 0.4286\nEpoch 41/100\n1/1 [==============================] - 0s 4ms/step - loss: 0.8733 - acc: 0.4286\nEpoch 42/100\n1/1 [==============================] - 0s 996us/step - loss: 0.8717 - acc: 0.4286\nEpoch 43/100\n1/1 [==============================] - 0s 3ms/step - loss: 0.8701 - acc: 0.4286\nEpoch 44/100\n1/1 [==============================] - 0s 2ms/step - loss: 0.8685 - acc: 0.4286\nEpoch 45/100\n1/1 [==============================] - 0s 1ms/step - loss: 0.8669 - acc: 0.4286\nEpoch 46/100\n1/1 [==============================] - 0s 1ms/step - loss: 0.8654 - acc: 0.4286\nEpoch 47/100\n1/1 [==============================] - 0s 998us/step - loss: 0.8638 - acc: 0.4286\nEpoch 48/100\n1/1 [==============================] - 0s 2ms/step - loss: 0.8623 - acc: 0.4286\nEpoch 49/100\n1/1 [==============================] - 0s 2ms/step - loss: 0.8608 - acc: 0.4286\nEpoch 50/100\n1/1 [==============================] - 0s 2ms/step - loss: 0.8593 - acc: 0.4286\nEpoch 51/100\n1/1 [==============================] - 0s 2ms/step - loss: 0.8578 - acc: 0.4286\nEpoch 52/100\n1/1 [==============================] - 0s 2ms/step - loss: 0.8563 - acc: 0.4286\nEpoch 53/100\n1/1 [==============================] - 0s 2ms/step - loss: 0.8548 - acc: 0.4286\nEpoch 54/100\n1/1 [==============================] - 0s 3ms/step - loss: 0.8534 - acc: 0.4286\nEpoch 55/100\n1/1 [==============================] - 0s 998us/step - loss: 0.8520 - acc: 0.4286\nEpoch 56/100\n1/1 [==============================] - 0s 5ms/step - loss: 0.8505 - acc: 0.4286\nEpoch 57/100\n1/1 [==============================] - 0s 2ms/step - loss: 0.8491 - acc: 0.4286\nEpoch 58/100\n1/1 [==============================] - 0s 1ms/step - loss: 0.8477 - acc: 0.4286\nEpoch 59/100\n1/1 [==============================] - 0s 2ms/step - loss: 0.8464 - acc: 0.4286\nEpoch 60/100\n1/1 [==============================] - 0s 2ms/step - loss: 0.8450 - acc: 0.4286\nEpoch 61/100\n1/1 [==============================] - 0s 3ms/step - loss: 0.8436 - acc: 0.4286\nEpoch 62/100\n1/1 [==============================] - 0s 998us/step - loss: 0.8423 - acc: 0.4286\nEpoch 63/100\n1/1 [==============================] - 0s 2ms/step - loss: 0.8410 - acc: 0.4286\nEpoch 64/100\n1/1 [==============================] - 0s 2ms/step - loss: 0.8397 - acc: 0.4286\nEpoch 65/100\n1/1 [==============================] - 0s 2ms/step - loss: 0.8384 - acc: 0.4286\nEpoch 66/100\n1/1 [==============================] - 0s 2ms/step - loss: 0.8371 - acc: 0.4286\nEpoch 67/100\n1/1 [==============================] - 0s 1ms/step - loss: 0.8358 - acc: 0.4286\nEpoch 68/100\n1/1 [==============================] - 0s 2ms/step - loss: 0.8345 - acc: 0.4286\nEpoch 69/100\n1/1 [==============================] - 0s 1ms/step - loss: 0.8333 - acc: 0.4286\nEpoch 70/100\n1/1 [==============================] - 0s 2ms/step - loss: 0.8321 - acc: 0.4286\nEpoch 71/100\n1/1 [==============================] - 0s 2ms/step - loss: 0.8308 - acc: 0.4286\nEpoch 72/100\n1/1 [==============================] - 0s 997us/step - loss: 0.8296 - acc: 0.4286\nEpoch 73/100\n1/1 [==============================] - 0s 2ms/step - loss: 0.8284 - acc: 0.4286\nEpoch 74/100\n1/1 [==============================] - 0s 2ms/step - loss: 0.8272 - acc: 0.4286\nEpoch 75/100\n1/1 [==============================] - 0s 997us/step - loss: 0.8260 - acc: 0.4286\nEpoch 76/100\n1/1 [==============================] - 0s 2ms/step - loss: 0.8249 - acc: 0.4286\nEpoch 77/100\n1/1 [==============================] - 0s 997us/step - loss: 0.8237 - acc: 0.4286\nEpoch 78/100\n1/1 [==============================] - 0s 2ms/step - loss: 0.8226 - acc: 0.4286\nEpoch 79/100\n1/1 [==============================] - 0s 998us/step - loss: 0.8214 - acc: 0.4286\nEpoch 80/100\n1/1 [==============================] - 0s 2ms/step - loss: 0.8203 - acc: 0.4286\nEpoch 81/100\n1/1 [==============================] - 0s 2ms/step - loss: 0.8192 - acc: 0.4286\nEpoch 82/100\n1/1 [==============================] - 0s 4ms/step - loss: 0.8181 - acc: 0.4286\nEpoch 83/100\n1/1 [==============================] - 0s 996us/step - loss: 0.8170 - acc: 0.4286\nEpoch 84/100\n1/1 [==============================] - 0s 4ms/step - loss: 0.8160 - acc: 0.4286\nEpoch 85/100\n1/1 [==============================] - 0s 3ms/step - loss: 0.8149 - acc: 0.4286\nEpoch 86/100\n1/1 [==============================] - 0s 2ms/step - loss: 0.8138 - acc: 0.4286\nEpoch 87/100\n1/1 [==============================] - 0s 2ms/step - loss: 0.8128 - acc: 0.4286\nEpoch 88/100\n1/1 [==============================] - 0s 999us/step - loss: 0.8117 - acc: 0.4286\nEpoch 89/100\n1/1 [==============================] - 0s 2ms/step - loss: 0.8107 - acc: 0.4286\nEpoch 90/100\n1/1 [==============================] - 0s 2ms/step - loss: 0.8097 - acc: 0.4286\nEpoch 91/100\n1/1 [==============================] - 0s 1ms/step - loss: 0.8087 - acc: 0.4286\nEpoch 92/100\n1/1 [==============================] - 0s 2ms/step - loss: 0.8077 - acc: 0.4286\nEpoch 93/100\n1/1 [==============================] - 0s 2ms/step - loss: 0.8067 - acc: 0.4286\nEpoch 94/100\n1/1 [==============================] - 0s 1ms/step - loss: 0.8057 - acc: 0.4286\nEpoch 95/100\n1/1 [==============================] - 0s 3ms/step - loss: 0.8048 - acc: 0.4286\nEpoch 96/100\n1/1 [==============================] - 0s 4ms/step - loss: 0.8038 - acc: 0.4286\nEpoch 97/100\n1/1 [==============================] - 0s 2ms/step - loss: 0.8029 - acc: 0.4286\nEpoch 98/100\n1/1 [==============================] - 0s 2ms/step - loss: 0.8019 - acc: 0.4286\nEpoch 99/100\n1/1 [==============================] - 0s 2ms/step - loss: 0.8010 - acc: 0.4286\nEpoch 100/100\n1/1 [==============================] - 0s 2ms/step - loss: 0.8001 - acc: 0.4286\n"
        }
      ],
      "execution_count": 8,
      "metadata": {}
    },
    {
      "cell_type": "markdown",
      "source": [
        "## Try building/training a more complex MLP on a bigger dataset.\n",
        "\n",
        "Use TensorFlow Keras & the [MNIST dataset](http://yann.lecun.com/exdb/mnist/) to build the canonical handwriting digit recognizer and see what kind of accuracy you can achieve. \n",
        "\n",
        "If you need inspiration, the Internet is chalk-full of tutorials, but I want you to see how far you can get on your own first. I've linked to the original MNIST dataset above but it will probably be easier to download data through a neural network library. If you reference outside resources make sure you understand every line of code that you're using from other sources, and share with your fellow students helpful resources that you find.\n",
        "\n",
        "\n",
        "### Parts\n",
        "1. Gathering & Transforming the Data\n",
        "2. Making MNIST a Binary Problem\n",
        "3. Estimating your Neural Network (the part you focus on)"
      ],
      "metadata": {
        "colab_type": "text",
        "id": "8b-r70o8p2Dm"
      }
    },
    {
      "cell_type": "markdown",
      "source": [
        "### Gathering the Data \n",
        "\n",
        "`keras` has a handy method to pull the mnist dataset for you. You'll notice that each observation is a 28x28 arrary which represents an image. Although most Neural Network frameworks can handle higher dimensional data, that is more overhead than necessary for us. We need to flatten the image to one long row which will be 784 values (28X28). Basically, you will be appending each row to one another to make on really long row. "
      ],
      "metadata": {}
    },
    {
      "cell_type": "code",
      "source": [
        "import numpy as np\n",
        "from tensorflow import keras\n",
        "from tensorflow.keras.datasets import mnist\n",
        "from tensorflow.keras.utils import to_categorical"
      ],
      "outputs": [],
      "execution_count": 40,
      "metadata": {}
    },
    {
      "cell_type": "code",
      "source": [
        "# input image dimensions\n",
        "img_rows, img_cols = 28, 28"
      ],
      "outputs": [],
      "execution_count": 41,
      "metadata": {}
    },
    {
      "cell_type": "code",
      "source": [
        "# the data, split between train and test sets\n",
        "(x_train, y_train), (x_test, y_test) = mnist.load_data()"
      ],
      "outputs": [],
      "execution_count": 42,
      "metadata": {}
    },
    {
      "cell_type": "code",
      "source": [
        "x_train = x_train.reshape(x_train.shape[0], img_rows * img_cols)\n",
        "x_test = x_test.reshape(x_test.shape[0], img_rows * img_cols)\n",
        "\n",
        "# Normalize Our Data\n",
        "x_train = x_train / 255\n",
        "x_test = x_test / 255"
      ],
      "outputs": [],
      "execution_count": 43,
      "metadata": {}
    },
    {
      "cell_type": "code",
      "source": [
        "# Now the data should be in a format you're more familiar with\n",
        "x_train.shape"
      ],
      "outputs": [
        {
          "output_type": "execute_result",
          "data": {
            "text/plain": "(60000, 784)"
          },
          "metadata": {},
          "execution_count": 37
        }
      ],
      "execution_count": 37,
      "metadata": {}
    },
    {
      "cell_type": "code",
      "execution_count": 44,
      "metadata": {},
      "outputs": [],
      "source": [
        "num_classes = 10 \n",
        "y_train = keras.utils.to_categorical(y_train, num_classes)\n",
        "y_test = keras.utils.to_categorical(y_test, num_classes)"
      ]
    },
    {
      "cell_type": "code",
      "execution_count": 45,
      "metadata": {},
      "outputs": [],
      "source": [
        "#define model\n",
        "model = Sequential()\n",
        "\n",
        "from tensorflow.keras.layers import Flatten \n",
        "\n",
        "model.add(Flatten())\n",
        "model.add(Dense(10, input_dim=784, activation=\"softmax\"))\n",
        "\n",
        "#compile model\n",
        "model.compile(loss='categorical_crossentropy', optimizer='adam', metrics=['accuracy'])\n",
        "\n"
      ]
    },
    {
      "cell_type": "code",
      "execution_count": 46,
      "metadata": {},
      "outputs": [
        {
          "output_type": "stream",
          "name": "stdout",
          "text": "Epoch 1/10\n1875/1875 [==============================] - 3s 2ms/step - loss: 0.4703 - accuracy: 0.8770\nEpoch 2/10\n1875/1875 [==============================] - 4s 2ms/step - loss: 0.3035 - accuracy: 0.9148\nEpoch 3/10\n1875/1875 [==============================] - 3s 2ms/step - loss: 0.2834 - accuracy: 0.9204\nEpoch 4/10\n1875/1875 [==============================] - 4s 2ms/step - loss: 0.2732 - accuracy: 0.9247\nEpoch 5/10\n1875/1875 [==============================] - 4s 2ms/step - loss: 0.2667 - accuracy: 0.9255\nEpoch 6/10\n1875/1875 [==============================] - 4s 2ms/step - loss: 0.2616 - accuracy: 0.9272\nEpoch 7/10\n1875/1875 [==============================] - 4s 2ms/step - loss: 0.2585 - accuracy: 0.9289\nEpoch 8/10\n1875/1875 [==============================] - 3s 2ms/step - loss: 0.2556 - accuracy: 0.9289\nEpoch 9/10\n1875/1875 [==============================] - 4s 2ms/step - loss: 0.2528 - accuracy: 0.9303\nEpoch 10/10\n1875/1875 [==============================] - 4s 2ms/step - loss: 0.2510 - accuracy: 0.9306\n"
        },
        {
          "output_type": "execute_result",
          "data": {
            "text/plain": "<tensorflow.python.keras.callbacks.History at 0x1daac68d080>"
          },
          "metadata": {},
          "execution_count": 46
        }
      ],
      "source": [
        "#fit model\n",
        "\n",
        "model.fit(x_train, y_train, epochs=10)"
      ]
    },
    {
      "cell_type": "code",
      "execution_count": 48,
      "metadata": {},
      "outputs": [
        {
          "output_type": "stream",
          "name": "stdout",
          "text": "313/313 [==============================] - 0s 1ms/step - loss: 0.2656 - accuracy: 0.9256\n"
        },
        {
          "output_type": "execute_result",
          "data": {
            "text/plain": "array([[3.9039232e-04, 2.2625634e-06, 9.9118781e-01, 1.0640851e-04,\n        4.8178205e-15, 3.3510316e-03, 4.9214503e-03, 1.0175134e-18,\n        4.0641036e-05, 1.9560962e-15]], dtype=float32)"
          },
          "metadata": {},
          "execution_count": 48
        }
      ],
      "source": [
        "#evaluate model\n",
        "scores = model.evaluate(x_test, y_test)\n",
        "model.predict(np.array([x_test[1]]))"
      ]
    },
    {
      "cell_type": "markdown",
      "source": [
        "### Making MNIST a Binary Problem \n",
        "MNIST is multiclass classification problem; however we haven't covered all the necessary techniques to handle this yet. You would need to one-hot encode the target, use a different loss metric, and use softmax activations for the last layer. This is all stuff we'll cover later this week, but let us simplify the problem for now: Zero or all else."
      ],
      "metadata": {}
    },
    {
      "cell_type": "code",
      "source": [
        "import numpy as np\n",
        "\n",
        "y_temp = np.zeros(y_train.shape)\n",
        "y_temp[np.where(y_train == 0.0)[0]] = 1\n",
        "y_train = y_temp\n",
        "\n",
        "y_temp = np.zeros(y_test.shape)\n",
        "y_temp[np.where(y_test == 0.0)[0]] = 1\n",
        "y_test = y_temp"
      ],
      "outputs": [],
      "execution_count": 5,
      "metadata": {}
    },
    {
      "cell_type": "code",
      "source": [
        "# A Nice Binary target for ya to work with\n",
        "y_train"
      ],
      "outputs": [
        {
          "output_type": "execute_result",
          "execution_count": 6,
          "data": {
            "text/plain": [
              "array([0., 1., 0., ..., 0., 0., 0.])"
            ]
          },
          "metadata": {}
        }
      ],
      "execution_count": 6,
      "metadata": {}
    },
    {
      "cell_type": "markdown",
      "source": [
        "### Estimating Your `net"
      ],
      "metadata": {}
    },
    {
      "cell_type": "code",
      "source": [
        "##### Your Code Here #####\n",
        "\n"
      ],
      "outputs": [],
      "execution_count": null,
      "metadata": {
        "colab": {},
        "colab_type": "code",
        "id": "5MOPtYdk1HgA"
      }
    },
    {
      "cell_type": "markdown",
      "source": [
        "## Stretch Goals: \n",
        "\n",
        "- Make MNIST a multiclass problem using cross entropy & soft-max\n",
        "- Implement Cross Validation model evaluation on your MNIST implementation \n",
        "- Research different [Gradient Descent Based Optimizers](https://keras.io/optimizers/)\n",
        " - [Siraj Raval the evolution of gradient descent](https://www.youtube.com/watch?v=nhqo0u1a6fw)\n",
        "- Build a housing price estimation model using a neural network. How does its accuracy compare with the regression models that we fit earlier on in class?"
      ],
      "metadata": {
        "colab_type": "text",
        "id": "FwlRJSfBlCvy"
      }
    }
  ],
  "metadata": {
    "colab": {
      "name": "LS_DS_432_Backprop_Assignment.ipynb",
      "provenance": [],
      "version": "0.3.2"
    },
    "kernelspec": {
      "display_name": "U4-S2-NNF (Python3)",
      "language": "python",
      "name": "u4-s2-nnf"
    },
    "language_info": {
      "codemirror_mode": {
        "name": "ipython",
        "version": 3
      },
      "file_extension": ".py",
      "mimetype": "text/x-python",
      "name": "python",
      "nbconvert_exporter": "python",
      "pygments_lexer": "ipython3",
      "version": "3.7.0-final"
    },
    "nteract": {
      "version": "0.22.4"
    }
  },
  "nbformat": 4,
  "nbformat_minor": 4
}